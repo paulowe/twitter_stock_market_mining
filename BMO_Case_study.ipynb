{
 "cells": [
  {
   "cell_type": "markdown",
   "id": "479367df-b0ce-4280-afa0-d3c47ffc6f24",
   "metadata": {
    "tags": []
   },
   "source": [
    "## Table of Content\n",
    "1. [Python Programming Question](#1.-Python-Programming-Question) \n",
    "2. [Authenticate to Twitter using API keys](#2.-Authenticate-to-Twitter-using-API-keys)\n",
    "3. [Mining Stock Market Data for Canadian Financial Institutions](#3.-Mining-Stock-Market-Data-for-Canadian-Financial-Institutions)\n",
    "4. [Verify completeness of scraped data](#4.-Verify-completeness-of-scraped-data) \n",
    "5. [Data cleaning](#5.-Basic-data-cleaning) \n",
    "6. [Data visualization](#6.-Basic-plots) \n",
    "7. [SQL Analytics Question](#7.-SQL-Analytics-Question)\n",
    "8. [Authenticate to BQ from Local Jupyter notebook](#8.-Authenticate-to-BQ-locally) \n",
    "9. [SQL Queries](#9.-SQL-Queries) \n",
    "10.[Slide deck summarizing insisghts](#10.-Powerpoint-presentation) \n",
    "\n",
    "    "
   ]
  },
  {
   "cell_type": "markdown",
   "id": "0edafc0b-5e44-4290-8938-64d91e2922ff",
   "metadata": {},
   "source": [
    "# 1. Python Programming Question\n",
    "\n",
    "Python is the preferred programming language that we are using for multiple purpose (API connections, Modelling, Data engineering)\n",
    "\n",
    "1. Write a twitter API call to download tweets for 3 - 4 stock market ticker symbol as a hashtag in python\n",
    "2. Use downloaded data and perform data cleaning using Python (library functions or regex)\n",
    "3. Basic visualization of the data you cleaned (No of tweets for particular ticker symbol in day/hour, No of users tweeting in a day/hour for ticker symbol)\n"
   ]
  },
  {
   "cell_type": "code",
   "execution_count": 4,
   "id": "06339d7f-7463-4c37-9aaf-fc2262bb484d",
   "metadata": {},
   "outputs": [],
   "source": [
    "import datetime\n",
    "import numpy as np\n",
    "import pandas as pd\n",
    "import matplotlib.pyplot as plt\n",
    "import re\n",
    "from nltk.sentiment.vader import SentimentIntensityAnalyzer\n",
    "import nltk\n",
    "import tweepy\n",
    "import configparser"
   ]
  },
  {
   "cell_type": "markdown",
   "id": "0ceb4745-eb82-47a6-a02d-3a2cb65e24fd",
   "metadata": {},
   "source": [
    "### 2. Authenticate to Twitter using API keys"
   ]
  },
  {
   "cell_type": "code",
   "execution_count": 5,
   "id": "78826af6-1ab6-4134-bba5-286946ffd2f9",
   "metadata": {},
   "outputs": [],
   "source": [
    "# read configs\n",
    "config = configparser.ConfigParser()\n",
    "config.read('config.ini')\n",
    "\n",
    "api_key = config['twitter']['api_key']\n",
    "api_key_secret = config['twitter']['api_key_secret']\n",
    "\n",
    "access_token = config['twitter']['access_token']\n",
    "access_token_secret = config['twitter']['access_token_secret']\n",
    "\n",
    "# authentication\n",
    "auth = tweepy.OAuthHandler(api_key, api_key_secret)\n",
    "auth.set_access_token(access_token, access_token_secret)\n",
    "\n",
    "api = tweepy.API(auth)"
   ]
  },
  {
   "cell_type": "markdown",
   "id": "2d1a4004-71be-473c-8659-a29952f886ff",
   "metadata": {},
   "source": [
    "### 3. Mining Stock Market Data for Canadian Financial Institutions"
   ]
  },
  {
   "cell_type": "code",
   "execution_count": 45,
   "id": "a73658a4-54be-4888-8977-1601911c60a1",
   "metadata": {},
   "outputs": [],
   "source": [
    "def fetch_market_data():\n",
    "\n",
    "    # search tweets\n",
    "    tickers = ['$TD', '$RY', '$BMO']\n",
    "    limit=900\n",
    "\n",
    "    df = pd.DataFrame(columns = ['Created At', 'User', 'Tweet', 'Location', 'Tickers'])\n",
    "    for ticker in tickers:\n",
    "        tweets = tweepy.Cursor(api.search_tweets, q=ticker, count=100, tweet_mode='extended').items(limit)\n",
    "\n",
    "        # create DataFrame\n",
    "        columns = ['Created At', 'User', 'Tweet', 'Location']\n",
    "        data = []\n",
    "\n",
    "        for tweet in tweets:\n",
    "            # Append all tweets for the ticker\n",
    "            data.append([tweet.created_at, tweet.user.screen_name, tweet.full_text, tweet.user.location])\n",
    "\n",
    "        ticker_df = pd.DataFrame(data, columns=columns) # All tweets for 1 ticker\n",
    "        \n",
    "        # Generate new column to classify tweets and ticker\n",
    "        query_labels = pd.Series([ticker]).repeat(len(ticker_df))\n",
    "        query_labels_df = query_labels.to_frame(name=\"Tickers\").reset_index(drop=True)\n",
    "        \n",
    "        intermed_ticker_df = pd.concat([ticker_df, query_labels_df], axis=1)\n",
    "        \n",
    "        # Append to final df\n",
    "        df = pd.concat([df, intermed_ticker_df], axis=0)\n",
    "    return df\n",
    "\n",
    "\n",
    "\n"
   ]
  },
  {
   "cell_type": "markdown",
   "id": "36332d41-c21a-4863-bbc0-c17d8c156283",
   "metadata": {},
   "source": [
    "### 4. Verify completeness of scraped data"
   ]
  },
  {
   "cell_type": "markdown",
   "id": "da6d10ca-7b08-4568-af0a-9aa7f6a0cf07",
   "metadata": {},
   "source": [
    "Verifying completeness of dataset by analyzing any missing values"
   ]
  },
  {
   "cell_type": "code",
   "execution_count": 67,
   "id": "d57f155d-4188-4dee-ad44-82f9cc319f49",
   "metadata": {},
   "outputs": [
    {
     "name": "stdout",
     "output_type": "stream",
     "text": [
      "<class 'pandas.core.frame.DataFrame'>\n",
      "Int64Index: 1251 entries, 0 to 395\n",
      "Data columns (total 5 columns):\n",
      " #   Column      Non-Null Count  Dtype              \n",
      "---  ------      --------------  -----              \n",
      " 0   Created At  1251 non-null   datetime64[ns, UTC]\n",
      " 1   User        1251 non-null   object             \n",
      " 2   Tweet       1251 non-null   object             \n",
      " 3   Location    1251 non-null   object             \n",
      " 4   Tickers     1251 non-null   object             \n",
      "dtypes: datetime64[ns, UTC](1), object(4)\n",
      "memory usage: 58.6+ KB\n"
     ]
    }
   ],
   "source": [
    "df.info()"
   ]
  },
  {
   "cell_type": "code",
   "execution_count": 64,
   "id": "8320a63f-cb46-4737-89db-f629e94a52eb",
   "metadata": {},
   "outputs": [
    {
     "data": {
      "text/html": [
       "<div>\n",
       "<style scoped>\n",
       "    .dataframe tbody tr th:only-of-type {\n",
       "        vertical-align: middle;\n",
       "    }\n",
       "\n",
       "    .dataframe tbody tr th {\n",
       "        vertical-align: top;\n",
       "    }\n",
       "\n",
       "    .dataframe thead th {\n",
       "        text-align: right;\n",
       "    }\n",
       "</style>\n",
       "<table border=\"1\" class=\"dataframe\">\n",
       "  <thead>\n",
       "    <tr style=\"text-align: right;\">\n",
       "      <th></th>\n",
       "      <th>Created At</th>\n",
       "      <th>User</th>\n",
       "      <th>Tweet</th>\n",
       "      <th>Location</th>\n",
       "      <th>Tickers</th>\n",
       "    </tr>\n",
       "  </thead>\n",
       "  <tbody>\n",
       "    <tr>\n",
       "      <th>0</th>\n",
       "      <td>2022-05-30 15:33:41+00:00</td>\n",
       "      <td>realNick1st</td>\n",
       "      <td>#BREAKING U.S. will not send Ukraine military ...</td>\n",
       "      <td>Upper East Side, NY</td>\n",
       "      <td>$BMO</td>\n",
       "    </tr>\n",
       "    <tr>\n",
       "      <th>1</th>\n",
       "      <td>2022-05-30 09:42:03+00:00</td>\n",
       "      <td>mediasentiment</td>\n",
       "      <td>$BMO  new alert at https://t.co/A7qrDarJHY  #s...</td>\n",
       "      <td></td>\n",
       "      <td>$BMO</td>\n",
       "    </tr>\n",
       "    <tr>\n",
       "      <th>2</th>\n",
       "      <td>2022-05-29 21:09:56+00:00</td>\n",
       "      <td>silberschmelzer</td>\n",
       "      <td>@wildace @SilbergleitJr One lesson we learned ...</td>\n",
       "      <td></td>\n",
       "      <td>$BMO</td>\n",
       "    </tr>\n",
       "    <tr>\n",
       "      <th>3</th>\n",
       "      <td>2022-05-29 13:42:49+00:00</td>\n",
       "      <td>guyjana</td>\n",
       "      <td>RT @AlexDividend: Dividends to come this week....</td>\n",
       "      <td>Israel</td>\n",
       "      <td>$BMO</td>\n",
       "    </tr>\n",
       "    <tr>\n",
       "      <th>4</th>\n",
       "      <td>2022-05-29 13:35:31+00:00</td>\n",
       "      <td>AlexDividend</td>\n",
       "      <td>Dividends to come this week. Will probably rei...</td>\n",
       "      <td>Canada 🇨🇦</td>\n",
       "      <td>$BMO</td>\n",
       "    </tr>\n",
       "  </tbody>\n",
       "</table>\n",
       "</div>"
      ],
      "text/plain": [
       "                 Created At             User  \\\n",
       "0 2022-05-30 15:33:41+00:00      realNick1st   \n",
       "1 2022-05-30 09:42:03+00:00   mediasentiment   \n",
       "2 2022-05-29 21:09:56+00:00  silberschmelzer   \n",
       "3 2022-05-29 13:42:49+00:00          guyjana   \n",
       "4 2022-05-29 13:35:31+00:00     AlexDividend   \n",
       "\n",
       "                                               Tweet             Location  \\\n",
       "0  #BREAKING U.S. will not send Ukraine military ...  Upper East Side, NY   \n",
       "1  $BMO  new alert at https://t.co/A7qrDarJHY  #s...                        \n",
       "2  @wildace @SilbergleitJr One lesson we learned ...                        \n",
       "3  RT @AlexDividend: Dividends to come this week....               Israel   \n",
       "4  Dividends to come this week. Will probably rei...            Canada 🇨🇦   \n",
       "\n",
       "  Tickers  \n",
       "0    $BMO  \n",
       "1    $BMO  \n",
       "2    $BMO  \n",
       "3    $BMO  \n",
       "4    $BMO  "
      ]
     },
     "execution_count": 64,
     "metadata": {},
     "output_type": "execute_result"
    }
   ],
   "source": [
    "df = fetch_market_data()\n",
    "df[df['Tickers']==\"$BMO\"].head(5)"
   ]
  },
  {
   "cell_type": "code",
   "execution_count": 65,
   "id": "a77d27d9-31eb-4dc7-baa6-1bf6145dcd03",
   "metadata": {},
   "outputs": [
    {
     "data": {
      "text/html": [
       "<div>\n",
       "<style scoped>\n",
       "    .dataframe tbody tr th:only-of-type {\n",
       "        vertical-align: middle;\n",
       "    }\n",
       "\n",
       "    .dataframe tbody tr th {\n",
       "        vertical-align: top;\n",
       "    }\n",
       "\n",
       "    .dataframe thead th {\n",
       "        text-align: right;\n",
       "    }\n",
       "</style>\n",
       "<table border=\"1\" class=\"dataframe\">\n",
       "  <thead>\n",
       "    <tr style=\"text-align: right;\">\n",
       "      <th></th>\n",
       "      <th>Created At</th>\n",
       "      <th>User</th>\n",
       "      <th>Tweet</th>\n",
       "      <th>Location</th>\n",
       "      <th>Tickers</th>\n",
       "    </tr>\n",
       "  </thead>\n",
       "  <tbody>\n",
       "    <tr>\n",
       "      <th>0</th>\n",
       "      <td>2022-05-30 15:09:54+00:00</td>\n",
       "      <td>DenisLalonde</td>\n",
       "      <td>RT @DividendesFNB: Analyses de titres ce matin...</td>\n",
       "      <td>Montréal</td>\n",
       "      <td>$TD</td>\n",
       "    </tr>\n",
       "    <tr>\n",
       "      <th>1</th>\n",
       "      <td>2022-05-30 15:09:03+00:00</td>\n",
       "      <td>mediasentiment</td>\n",
       "      <td>$TD  new alert at https://t.co/A7qrDarJHY  #st...</td>\n",
       "      <td></td>\n",
       "      <td>$TD</td>\n",
       "    </tr>\n",
       "    <tr>\n",
       "      <th>2</th>\n",
       "      <td>2022-05-30 15:04:03+00:00</td>\n",
       "      <td>AlertTrade</td>\n",
       "      <td>Trading Ideas: $TD with a Bullish outlook foll...</td>\n",
       "      <td></td>\n",
       "      <td>$TD</td>\n",
       "    </tr>\n",
       "    <tr>\n",
       "      <th>3</th>\n",
       "      <td>2022-05-30 15:02:05+00:00</td>\n",
       "      <td>AlertTrade</td>\n",
       "      <td>RT @AlertTrade: 🔴🔴   You are invited to test d...</td>\n",
       "      <td></td>\n",
       "      <td>$TD</td>\n",
       "    </tr>\n",
       "    <tr>\n",
       "      <th>4</th>\n",
       "      <td>2022-05-30 14:35:42+00:00</td>\n",
       "      <td>EpsMomentum</td>\n",
       "      <td>$TD with a Bullish outlook following its earni...</td>\n",
       "      <td>Manhattan, NY</td>\n",
       "      <td>$TD</td>\n",
       "    </tr>\n",
       "  </tbody>\n",
       "</table>\n",
       "</div>"
      ],
      "text/plain": [
       "                 Created At            User  \\\n",
       "0 2022-05-30 15:09:54+00:00    DenisLalonde   \n",
       "1 2022-05-30 15:09:03+00:00  mediasentiment   \n",
       "2 2022-05-30 15:04:03+00:00      AlertTrade   \n",
       "3 2022-05-30 15:02:05+00:00      AlertTrade   \n",
       "4 2022-05-30 14:35:42+00:00     EpsMomentum   \n",
       "\n",
       "                                               Tweet       Location Tickers  \n",
       "0  RT @DividendesFNB: Analyses de titres ce matin...       Montréal     $TD  \n",
       "1  $TD  new alert at https://t.co/A7qrDarJHY  #st...                    $TD  \n",
       "2  Trading Ideas: $TD with a Bullish outlook foll...                    $TD  \n",
       "3  RT @AlertTrade: 🔴🔴   You are invited to test d...                    $TD  \n",
       "4  $TD with a Bullish outlook following its earni...  Manhattan, NY     $TD  "
      ]
     },
     "execution_count": 65,
     "metadata": {},
     "output_type": "execute_result"
    }
   ],
   "source": [
    "df[df['Tickers']==\"$TD\"].head(5)"
   ]
  },
  {
   "cell_type": "code",
   "execution_count": 66,
   "id": "cf399177-45e5-42bb-80dc-1c8590aa9abb",
   "metadata": {},
   "outputs": [
    {
     "data": {
      "text/html": [
       "<div>\n",
       "<style scoped>\n",
       "    .dataframe tbody tr th:only-of-type {\n",
       "        vertical-align: middle;\n",
       "    }\n",
       "\n",
       "    .dataframe tbody tr th {\n",
       "        vertical-align: top;\n",
       "    }\n",
       "\n",
       "    .dataframe thead th {\n",
       "        text-align: right;\n",
       "    }\n",
       "</style>\n",
       "<table border=\"1\" class=\"dataframe\">\n",
       "  <thead>\n",
       "    <tr style=\"text-align: right;\">\n",
       "      <th></th>\n",
       "      <th>Created At</th>\n",
       "      <th>User</th>\n",
       "      <th>Tweet</th>\n",
       "      <th>Location</th>\n",
       "      <th>Tickers</th>\n",
       "    </tr>\n",
       "  </thead>\n",
       "  <tbody>\n",
       "    <tr>\n",
       "      <th>0</th>\n",
       "      <td>2022-05-30 15:33:41+00:00</td>\n",
       "      <td>realNick1st</td>\n",
       "      <td>#BREAKING U.S. will not send Ukraine military ...</td>\n",
       "      <td>Upper East Side, NY</td>\n",
       "      <td>$RY</td>\n",
       "    </tr>\n",
       "    <tr>\n",
       "      <th>1</th>\n",
       "      <td>2022-05-30 15:09:54+00:00</td>\n",
       "      <td>DenisLalonde</td>\n",
       "      <td>RT @DividendesFNB: Analyses de titres ce matin...</td>\n",
       "      <td>Montréal</td>\n",
       "      <td>$RY</td>\n",
       "    </tr>\n",
       "    <tr>\n",
       "      <th>2</th>\n",
       "      <td>2022-05-30 15:09:09+00:00</td>\n",
       "      <td>mediasentiment</td>\n",
       "      <td>$RY  new alert at https://t.co/A7qrDarJHY  #st...</td>\n",
       "      <td></td>\n",
       "      <td>$RY</td>\n",
       "    </tr>\n",
       "    <tr>\n",
       "      <th>3</th>\n",
       "      <td>2022-05-30 15:05:02+00:00</td>\n",
       "      <td>wallstreetLED</td>\n",
       "      <td>RT @AlertTrade: Trading Ideas: $RY with a Bull...</td>\n",
       "      <td>Nueva York, USA</td>\n",
       "      <td>$RY</td>\n",
       "    </tr>\n",
       "    <tr>\n",
       "      <th>4</th>\n",
       "      <td>2022-05-30 15:04:06+00:00</td>\n",
       "      <td>AlertTrade</td>\n",
       "      <td>Trading Ideas: $RY with a Bullish outlook foll...</td>\n",
       "      <td></td>\n",
       "      <td>$RY</td>\n",
       "    </tr>\n",
       "  </tbody>\n",
       "</table>\n",
       "</div>"
      ],
      "text/plain": [
       "                 Created At            User  \\\n",
       "0 2022-05-30 15:33:41+00:00     realNick1st   \n",
       "1 2022-05-30 15:09:54+00:00    DenisLalonde   \n",
       "2 2022-05-30 15:09:09+00:00  mediasentiment   \n",
       "3 2022-05-30 15:05:02+00:00   wallstreetLED   \n",
       "4 2022-05-30 15:04:06+00:00      AlertTrade   \n",
       "\n",
       "                                               Tweet             Location  \\\n",
       "0  #BREAKING U.S. will not send Ukraine military ...  Upper East Side, NY   \n",
       "1  RT @DividendesFNB: Analyses de titres ce matin...             Montréal   \n",
       "2  $RY  new alert at https://t.co/A7qrDarJHY  #st...                        \n",
       "3  RT @AlertTrade: Trading Ideas: $RY with a Bull...      Nueva York, USA   \n",
       "4  Trading Ideas: $RY with a Bullish outlook foll...                        \n",
       "\n",
       "  Tickers  \n",
       "0     $RY  \n",
       "1     $RY  \n",
       "2     $RY  \n",
       "3     $RY  \n",
       "4     $RY  "
      ]
     },
     "execution_count": 66,
     "metadata": {},
     "output_type": "execute_result"
    }
   ],
   "source": [
    "df[df['Tickers']==\"$RY\"].head(5)"
   ]
  },
  {
   "cell_type": "markdown",
   "id": "50bdb19d-6543-4131-834e-782474615667",
   "metadata": {},
   "source": [
    "## 5. Basic data cleaning"
   ]
  },
  {
   "cell_type": "code",
   "execution_count": 68,
   "id": "59982187-f8dd-440c-a865-eaf1be94182e",
   "metadata": {},
   "outputs": [
    {
     "data": {
      "text/html": [
       "<div>\n",
       "<style scoped>\n",
       "    .dataframe tbody tr th:only-of-type {\n",
       "        vertical-align: middle;\n",
       "    }\n",
       "\n",
       "    .dataframe tbody tr th {\n",
       "        vertical-align: top;\n",
       "    }\n",
       "\n",
       "    .dataframe thead th {\n",
       "        text-align: right;\n",
       "    }\n",
       "</style>\n",
       "<table border=\"1\" class=\"dataframe\">\n",
       "  <thead>\n",
       "    <tr style=\"text-align: right;\">\n",
       "      <th></th>\n",
       "      <th>Created At</th>\n",
       "      <th>User</th>\n",
       "      <th>Tweet</th>\n",
       "      <th>Location</th>\n",
       "      <th>Tickers</th>\n",
       "    </tr>\n",
       "  </thead>\n",
       "  <tbody>\n",
       "    <tr>\n",
       "      <th>0</th>\n",
       "      <td>2022-05-30 15:09:54+00:00</td>\n",
       "      <td>DenisLalonde</td>\n",
       "      <td>: Analyses de titres ce matin: \\n\\n▪️Banque Na...</td>\n",
       "      <td>Montréal</td>\n",
       "      <td>$TD</td>\n",
       "    </tr>\n",
       "    <tr>\n",
       "      <th>1</th>\n",
       "      <td>2022-05-30 15:09:03+00:00</td>\n",
       "      <td>mediasentiment</td>\n",
       "      <td>$TD  new alert at   stocks daytrading  NYSE NA...</td>\n",
       "      <td></td>\n",
       "      <td>$TD</td>\n",
       "    </tr>\n",
       "    <tr>\n",
       "      <th>2</th>\n",
       "      <td>2022-05-30 15:04:03+00:00</td>\n",
       "      <td>AlertTrade</td>\n",
       "      <td>Trading Ideas: $TD with a Bullish outlook foll...</td>\n",
       "      <td></td>\n",
       "      <td>$TD</td>\n",
       "    </tr>\n",
       "    <tr>\n",
       "      <th>3</th>\n",
       "      <td>2022-05-30 15:02:05+00:00</td>\n",
       "      <td>AlertTrade</td>\n",
       "      <td>: 🔴🔴   You are invited to test drive TradeIdea...</td>\n",
       "      <td></td>\n",
       "      <td>$TD</td>\n",
       "    </tr>\n",
       "    <tr>\n",
       "      <th>4</th>\n",
       "      <td>2022-05-30 14:35:42+00:00</td>\n",
       "      <td>EpsMomentum</td>\n",
       "      <td>$TD with a Bullish outlook following its earni...</td>\n",
       "      <td>Manhattan, NY</td>\n",
       "      <td>$TD</td>\n",
       "    </tr>\n",
       "    <tr>\n",
       "      <th>...</th>\n",
       "      <td>...</td>\n",
       "      <td>...</td>\n",
       "      <td>...</td>\n",
       "      <td>...</td>\n",
       "      <td>...</td>\n",
       "    </tr>\n",
       "    <tr>\n",
       "      <th>391</th>\n",
       "      <td>2022-05-22 13:06:16+00:00</td>\n",
       "      <td>juanfra1975</td>\n",
       "      <td>_whales: Earnings this week.\\n\\n$ZM\\n$XPEV\\n$H...</td>\n",
       "      <td>Bay Area ,California.</td>\n",
       "      <td>$BMO</td>\n",
       "    </tr>\n",
       "    <tr>\n",
       "      <th>392</th>\n",
       "      <td>2022-05-22 13:04:46+00:00</td>\n",
       "      <td>RichiesRockets</td>\n",
       "      <td>_whales: Earnings this week.\\n\\n$ZM\\n$XPEV\\n$H...</td>\n",
       "      <td>Dallas, TX</td>\n",
       "      <td>$BMO</td>\n",
       "    </tr>\n",
       "    <tr>\n",
       "      <th>393</th>\n",
       "      <td>2022-05-22 13:02:18+00:00</td>\n",
       "      <td>TrflgrMD</td>\n",
       "      <td>_whales: Earnings this week.\\n\\n$ZM\\n$XPEV\\n$H...</td>\n",
       "      <td></td>\n",
       "      <td>$BMO</td>\n",
       "    </tr>\n",
       "    <tr>\n",
       "      <th>394</th>\n",
       "      <td>2022-05-22 13:01:19+00:00</td>\n",
       "      <td>Jenn3Chi</td>\n",
       "      <td>_whales: Earnings this week.\\n\\n$ZM\\n$XPEV\\n$H...</td>\n",
       "      <td>Chicago, IL</td>\n",
       "      <td>$BMO</td>\n",
       "    </tr>\n",
       "    <tr>\n",
       "      <th>395</th>\n",
       "      <td>2022-05-22 13:01:00+00:00</td>\n",
       "      <td>unusual_whales</td>\n",
       "      <td>Earnings this week.\\n\\n$ZM\\n$XPEV\\n$HEI\\n$AAP\\...</td>\n",
       "      <td></td>\n",
       "      <td>$BMO</td>\n",
       "    </tr>\n",
       "  </tbody>\n",
       "</table>\n",
       "<p>1251 rows × 5 columns</p>\n",
       "</div>"
      ],
      "text/plain": [
       "                   Created At            User  \\\n",
       "0   2022-05-30 15:09:54+00:00    DenisLalonde   \n",
       "1   2022-05-30 15:09:03+00:00  mediasentiment   \n",
       "2   2022-05-30 15:04:03+00:00      AlertTrade   \n",
       "3   2022-05-30 15:02:05+00:00      AlertTrade   \n",
       "4   2022-05-30 14:35:42+00:00     EpsMomentum   \n",
       "..                        ...             ...   \n",
       "391 2022-05-22 13:06:16+00:00     juanfra1975   \n",
       "392 2022-05-22 13:04:46+00:00  RichiesRockets   \n",
       "393 2022-05-22 13:02:18+00:00        TrflgrMD   \n",
       "394 2022-05-22 13:01:19+00:00        Jenn3Chi   \n",
       "395 2022-05-22 13:01:00+00:00  unusual_whales   \n",
       "\n",
       "                                                 Tweet               Location  \\\n",
       "0    : Analyses de titres ce matin: \\n\\n▪️Banque Na...               Montréal   \n",
       "1    $TD  new alert at   stocks daytrading  NYSE NA...                          \n",
       "2    Trading Ideas: $TD with a Bullish outlook foll...                          \n",
       "3    : 🔴🔴   You are invited to test drive TradeIdea...                          \n",
       "4    $TD with a Bullish outlook following its earni...          Manhattan, NY   \n",
       "..                                                 ...                    ...   \n",
       "391  _whales: Earnings this week.\\n\\n$ZM\\n$XPEV\\n$H...  Bay Area ,California.   \n",
       "392  _whales: Earnings this week.\\n\\n$ZM\\n$XPEV\\n$H...             Dallas, TX   \n",
       "393  _whales: Earnings this week.\\n\\n$ZM\\n$XPEV\\n$H...                          \n",
       "394  _whales: Earnings this week.\\n\\n$ZM\\n$XPEV\\n$H...            Chicago, IL   \n",
       "395  Earnings this week.\\n\\n$ZM\\n$XPEV\\n$HEI\\n$AAP\\...                          \n",
       "\n",
       "    Tickers  \n",
       "0       $TD  \n",
       "1       $TD  \n",
       "2       $TD  \n",
       "3       $TD  \n",
       "4       $TD  \n",
       "..      ...  \n",
       "391    $BMO  \n",
       "392    $BMO  \n",
       "393    $BMO  \n",
       "394    $BMO  \n",
       "395    $BMO  \n",
       "\n",
       "[1251 rows x 5 columns]"
      ]
     },
     "execution_count": 68,
     "metadata": {},
     "output_type": "execute_result"
    }
   ],
   "source": [
    "# Create a function to clean the tweets\n",
    "def cleanTxt(text):\n",
    "    text = re.sub('@[A-Za-z0–9]+', '', text) #Removing @mentions\n",
    "    text = re.sub('#', '', text) # Removing '#' hash tag\n",
    "    text = re.sub('RT[\\s]+', '', text) # Removing RT\n",
    "    text = re.sub('https?:\\/\\/\\S+', '', text) # Removing hyperlink\n",
    "    return text\n",
    "df[\"Tweet\"] = df[\"Tweet\"].apply(cleanTxt)\n",
    "df"
   ]
  },
  {
   "cell_type": "code",
   "execution_count": 69,
   "id": "2f2508cc-dadc-45be-930a-dd8ecafb8798",
   "metadata": {},
   "outputs": [
    {
     "data": {
      "text/html": [
       "<div>\n",
       "<style scoped>\n",
       "    .dataframe tbody tr th:only-of-type {\n",
       "        vertical-align: middle;\n",
       "    }\n",
       "\n",
       "    .dataframe tbody tr th {\n",
       "        vertical-align: top;\n",
       "    }\n",
       "\n",
       "    .dataframe thead th {\n",
       "        text-align: right;\n",
       "    }\n",
       "</style>\n",
       "<table border=\"1\" class=\"dataframe\">\n",
       "  <thead>\n",
       "    <tr style=\"text-align: right;\">\n",
       "      <th></th>\n",
       "      <th>Created At</th>\n",
       "      <th>User</th>\n",
       "      <th>Tweet</th>\n",
       "      <th>Location</th>\n",
       "      <th>Tickers</th>\n",
       "    </tr>\n",
       "  </thead>\n",
       "  <tbody>\n",
       "    <tr>\n",
       "      <th>0</th>\n",
       "      <td>2022-05-30 15:09:54+00:00</td>\n",
       "      <td>DenisLalonde</td>\n",
       "      <td>: Analyses de titres ce matin: \\n\\n▪️Banque Na...</td>\n",
       "      <td>Montréal</td>\n",
       "      <td>$TD</td>\n",
       "    </tr>\n",
       "    <tr>\n",
       "      <th>1</th>\n",
       "      <td>2022-05-30 15:09:03+00:00</td>\n",
       "      <td>mediasentiment</td>\n",
       "      <td>$TD  new alert at   stocks daytrading  NYSE NA...</td>\n",
       "      <td></td>\n",
       "      <td>$TD</td>\n",
       "    </tr>\n",
       "    <tr>\n",
       "      <th>2</th>\n",
       "      <td>2022-05-30 15:04:03+00:00</td>\n",
       "      <td>AlertTrade</td>\n",
       "      <td>Trading Ideas: $TD with a Bullish outlook foll...</td>\n",
       "      <td></td>\n",
       "      <td>$TD</td>\n",
       "    </tr>\n",
       "    <tr>\n",
       "      <th>3</th>\n",
       "      <td>2022-05-30 15:02:05+00:00</td>\n",
       "      <td>AlertTrade</td>\n",
       "      <td>: 🔴🔴   You are invited to test drive TradeIdea...</td>\n",
       "      <td></td>\n",
       "      <td>$TD</td>\n",
       "    </tr>\n",
       "    <tr>\n",
       "      <th>4</th>\n",
       "      <td>2022-05-30 14:35:42+00:00</td>\n",
       "      <td>EpsMomentum</td>\n",
       "      <td>$TD with a Bullish outlook following its earni...</td>\n",
       "      <td>Manhattan, NY</td>\n",
       "      <td>$TD</td>\n",
       "    </tr>\n",
       "    <tr>\n",
       "      <th>...</th>\n",
       "      <td>...</td>\n",
       "      <td>...</td>\n",
       "      <td>...</td>\n",
       "      <td>...</td>\n",
       "      <td>...</td>\n",
       "    </tr>\n",
       "    <tr>\n",
       "      <th>391</th>\n",
       "      <td>2022-05-22 13:06:16+00:00</td>\n",
       "      <td>juanfra1975</td>\n",
       "      <td>_whales: Earnings this week.\\n\\n$ZM\\n$XPEV\\n$H...</td>\n",
       "      <td>Bay Area ,California.</td>\n",
       "      <td>$BMO</td>\n",
       "    </tr>\n",
       "    <tr>\n",
       "      <th>392</th>\n",
       "      <td>2022-05-22 13:04:46+00:00</td>\n",
       "      <td>RichiesRockets</td>\n",
       "      <td>_whales: Earnings this week.\\n\\n$ZM\\n$XPEV\\n$H...</td>\n",
       "      <td>Dallas, TX</td>\n",
       "      <td>$BMO</td>\n",
       "    </tr>\n",
       "    <tr>\n",
       "      <th>393</th>\n",
       "      <td>2022-05-22 13:02:18+00:00</td>\n",
       "      <td>TrflgrMD</td>\n",
       "      <td>_whales: Earnings this week.\\n\\n$ZM\\n$XPEV\\n$H...</td>\n",
       "      <td></td>\n",
       "      <td>$BMO</td>\n",
       "    </tr>\n",
       "    <tr>\n",
       "      <th>394</th>\n",
       "      <td>2022-05-22 13:01:19+00:00</td>\n",
       "      <td>Jenn3Chi</td>\n",
       "      <td>_whales: Earnings this week.\\n\\n$ZM\\n$XPEV\\n$H...</td>\n",
       "      <td>Chicago, IL</td>\n",
       "      <td>$BMO</td>\n",
       "    </tr>\n",
       "    <tr>\n",
       "      <th>395</th>\n",
       "      <td>2022-05-22 13:01:00+00:00</td>\n",
       "      <td>unusual_whales</td>\n",
       "      <td>Earnings this week.\\n\\n$ZM\\n$XPEV\\n$HEI\\n$AAP\\...</td>\n",
       "      <td></td>\n",
       "      <td>$BMO</td>\n",
       "    </tr>\n",
       "  </tbody>\n",
       "</table>\n",
       "<p>1251 rows × 5 columns</p>\n",
       "</div>"
      ],
      "text/plain": [
       "                   Created At            User  \\\n",
       "0   2022-05-30 15:09:54+00:00    DenisLalonde   \n",
       "1   2022-05-30 15:09:03+00:00  mediasentiment   \n",
       "2   2022-05-30 15:04:03+00:00      AlertTrade   \n",
       "3   2022-05-30 15:02:05+00:00      AlertTrade   \n",
       "4   2022-05-30 14:35:42+00:00     EpsMomentum   \n",
       "..                        ...             ...   \n",
       "391 2022-05-22 13:06:16+00:00     juanfra1975   \n",
       "392 2022-05-22 13:04:46+00:00  RichiesRockets   \n",
       "393 2022-05-22 13:02:18+00:00        TrflgrMD   \n",
       "394 2022-05-22 13:01:19+00:00        Jenn3Chi   \n",
       "395 2022-05-22 13:01:00+00:00  unusual_whales   \n",
       "\n",
       "                                                 Tweet               Location  \\\n",
       "0    : Analyses de titres ce matin: \\n\\n▪️Banque Na...               Montréal   \n",
       "1    $TD  new alert at   stocks daytrading  NYSE NA...                          \n",
       "2    Trading Ideas: $TD with a Bullish outlook foll...                          \n",
       "3    : 🔴🔴   You are invited to test drive TradeIdea...                          \n",
       "4    $TD with a Bullish outlook following its earni...          Manhattan, NY   \n",
       "..                                                 ...                    ...   \n",
       "391  _whales: Earnings this week.\\n\\n$ZM\\n$XPEV\\n$H...  Bay Area ,California.   \n",
       "392  _whales: Earnings this week.\\n\\n$ZM\\n$XPEV\\n$H...             Dallas, TX   \n",
       "393  _whales: Earnings this week.\\n\\n$ZM\\n$XPEV\\n$H...                          \n",
       "394  _whales: Earnings this week.\\n\\n$ZM\\n$XPEV\\n$H...            Chicago, IL   \n",
       "395  Earnings this week.\\n\\n$ZM\\n$XPEV\\n$HEI\\n$AAP\\...                          \n",
       "\n",
       "    Tickers  \n",
       "0       $TD  \n",
       "1       $TD  \n",
       "2       $TD  \n",
       "3       $TD  \n",
       "4       $TD  \n",
       "..      ...  \n",
       "391    $BMO  \n",
       "392    $BMO  \n",
       "393    $BMO  \n",
       "394    $BMO  \n",
       "395    $BMO  \n",
       "\n",
       "[1251 rows x 5 columns]"
      ]
     },
     "execution_count": 69,
     "metadata": {},
     "output_type": "execute_result"
    }
   ],
   "source": [
    "df"
   ]
  },
  {
   "cell_type": "markdown",
   "id": "95b6d77b-8fa7-41e4-87ae-e8b228ece354",
   "metadata": {},
   "source": [
    "## 6. Basic plots\n",
    "- No of tweets for particular ticker symbol in day/hour, \n",
    "- No of users tweeting in a day/hour for ticker symbol)"
   ]
  },
  {
   "cell_type": "code",
   "execution_count": 70,
   "id": "6b9b58a1-41eb-4c9b-82a1-382e99c494d7",
   "metadata": {},
   "outputs": [],
   "source": [
    "# df.set_index('Created At')\n",
    "df['Created At'] = pd.to_datetime(df['Created At'])\n",
    "\n",
    "start_date='2022-05-20'\n",
    "\n",
    "end_date='2022-05-29'\n",
    "\n",
    "num_tweets_in_past_day = []\n",
    "\n",
    "for ticker in tickers:\n",
    "\n",
    "    mask = (df['Created At'] > start_date) & (df['Created At'] <= end_date) & (df['Tickers'] == ticker)    \n",
    "    num_tweets = len(df.loc[mask])\n",
    "    num_tweets_in_past_day.append(num_tweets)\n"
   ]
  },
  {
   "cell_type": "code",
   "execution_count": 71,
   "id": "d562548b-3146-47db-9e2e-2506daa5059f",
   "metadata": {},
   "outputs": [
    {
     "data": {
      "text/plain": [
       "[296, 407, 384]"
      ]
     },
     "execution_count": 71,
     "metadata": {},
     "output_type": "execute_result"
    }
   ],
   "source": [
    "num_tweets_in_past_day"
   ]
  },
  {
   "cell_type": "markdown",
   "id": "92575e07-fd21-45b8-b12e-d3be7e471308",
   "metadata": {},
   "source": [
    "### Number of tweets for 3 tickers in the past 9 days (May 20, 2022 - May 29, 2022)"
   ]
  },
  {
   "cell_type": "code",
   "execution_count": 73,
   "id": "200b42da-abb7-4f38-893b-b0fb644723d7",
   "metadata": {},
   "outputs": [
    {
     "data": {
      "image/png": "[encoded data removed]",
      "text/plain": [
       "<Figure size 432x288 with 1 Axes>"
      ]
     },
     "metadata": {
      "needs_background": "light"
     },
     "output_type": "display_data"
    }
   ],
   "source": [
    "visualization_df = pd.DataFrame({'Tickers':tickers, 'Number of tweets':num_tweets_in_past_day})\n",
    "ax = visualization_df.plot.bar(x='Tickers', y='Number of tweets', rot=90)"
   ]
  },
  {
   "cell_type": "markdown",
   "id": "0d5f2cea-0a0e-4575-9f29-f2b9f6e98d8d",
   "metadata": {},
   "source": [
    "### Number of users tweeting in the past day for ticker symbol"
   ]
  },
  {
   "cell_type": "code",
   "execution_count": 77,
   "id": "31eb06c0-fdfe-474c-ba45-1b6cd73aeb53",
   "metadata": {},
   "outputs": [],
   "source": [
    "start_date='2022-05-28'\n",
    "\n",
    "end_date='2022-05-29'\n",
    "\n",
    "num_distinct_users_in_past_day = []\n",
    "\n",
    "for ticker in tickers:\n",
    "\n",
    "    mask = (df['Created At'] > start_date) & (df['Created At'] <= end_date) & (df['Tickers'] == ticker)    \n",
    "    num_users = df.loc[mask]\n",
    "    n = len(pd.unique(num_users['User']))\n",
    "    num_distinct_users_in_past_day.append(n)"
   ]
  },
  {
   "cell_type": "code",
   "execution_count": 79,
   "id": "e516815d-c126-4977-b61a-183ad6d6de01",
   "metadata": {},
   "outputs": [
    {
     "data": {
      "image/png": "[encoded data removed]",
      "text/plain": [
       "<Figure size 432x288 with 1 Axes>"
      ]
     },
     "metadata": {
      "needs_background": "light"
     },
     "output_type": "display_data"
    }
   ],
   "source": [
    "visualization2_df = pd.DataFrame({'Tickers':tickers, 'Number of distinct users':num_distinct_users_in_past_day})\n",
    "ax = visualization2_df.plot.bar(x='Tickers', y='Number of distinct users', rot=0)"
   ]
  },
  {
   "cell_type": "markdown",
   "id": "f0bd5fdd-7f79-4617-9dc2-cb76a3a8687d",
   "metadata": {},
   "source": [
    "# 7. SQL Analytics Question\n",
    "\n",
    "**Instructions**\n",
    "---------------------\n",
    "\n",
    "1. Use your own GCP account\n",
    "2. Get sample data from BQ\n",
    "\n",
    "- GA Dataset - https://support.google.com/analytics/answer/4419694?hl=en#zippy=%2Cin-this-article\n",
    "\n",
    "3. BQ analytical queries\n",
    "\n",
    "- BQ Cookbook - https://support.google.com/analytics/answer/7586738?hl=en#zippy=%2Cin-this-article\n",
    "\n",
    "4. **Question**: How do you derive customers insights from GA data (feel free to perform data integration and build reprots!)\n",
    "\n",
    "5. **Evaluation criteria for this exercise**: \n",
    "- SQL, \n",
    "- Working with nested fields, \n",
    "- Analytical expertise\n",
    "\n",
    "6. **Deliverable artifacts**: Powerpoint deck summarizing methodology and findings along with queries\n",
    "\n",
    "---------------------\n"
   ]
  },
  {
   "cell_type": "markdown",
   "id": "9760c433-d3e9-4437-ae72-446ba2082826",
   "metadata": {},
   "source": [
    "### Problem statement\n",
    "The dataset provides 12 months (August 2016 to August 2017) of obfuscated Google Analytics 360 data from the Google Merchandise Store , a real ecommerce store that sells Google-branded merchandise, in BigQuery. It’s a great way analyze business data and learn the benefits of using BigQuery to analyze Analytics 360 data Learn more about the data \n",
    "The data includes The data is typical of what an ecommerce website would see and includes the following information:\n",
    "\n",
    "- **Traffic source data**: information about where website visitors originate, including data about organic traffic, paid search traffic, and display traffic\n",
    "- **Content data**: information about the behavior of users on the site, such as URLs of pages that visitors look at, how they interact with content, etc.\n",
    "- **Transactional data**: information about the transactions on the Google Merchandise Store website.\n",
    "\n",
    "Data for some fields is obfuscated such as fullVisitorId, or removed such as clientId, adWordsClickInfo and geoNetwork. “Not available in demo dataset” will be returned for STRING values and “null” will be returned for INTEGER values when querying the fields containing no data."
   ]
  },
  {
   "cell_type": "markdown",
   "id": "22c84f5b-54d8-4b3a-acf3-3d5ab4afbdcf",
   "metadata": {},
   "source": [
    "**About GA Sessions**: For each Analytics view that is enabled for BigQuery integration, a dataset is added using the view ID as the name."
   ]
  },
  {
   "cell_type": "markdown",
   "id": "003ddb79-fedb-4e33-80d3-83250c98ec51",
   "metadata": {},
   "source": [
    "**Schema description**: https://support.google.com/analytics/answer/3437719?hl=en&ref_topic=3416089"
   ]
  },
  {
   "cell_type": "code",
   "execution_count": 223,
   "id": "98d3f6be-df2d-4360-978d-0d2a43b0498d",
   "metadata": {},
   "outputs": [],
   "source": [
    "!export GOOGLE_APPLICATION_CREDENTIALS=\"uol-datascience-341918-32809f524c18.json\""
   ]
  },
  {
   "cell_type": "code",
   "execution_count": 222,
   "id": "2b5007ce-b5cc-4557-af2d-e51aad719786",
   "metadata": {},
   "outputs": [],
   "source": [
    "# Authentication\n",
    "import os\n",
    "from google.cloud import bigquery\n",
    "from google.oauth2 import service_account\n",
    "# Set environment variable\n",
    "os.environ[\"GOOGLE_APPLICATION_CREDENTIALS\"]=\"./uol-datascience-341918-32809f524c18.json\"\n",
    "# Project name\n",
    "project_id = \"uol-datascience\"\n",
    "# Path to the key\n",
    "key_path=\"./uol-datascience-341918-32809f524c18.json\"\n",
    "#Credentials\n",
    "credentials = service_account.Credentials.from_service_account_file(\n",
    "    key_path, scopes=[\"https://www.googleapis.com/auth/cloud-platform\"],\n",
    ")\n",
    "#Instantiate BQ client\n",
    "client = bigquery.Client(credentials=credentials, project=credentials.project_id)\n",
    "# ROCK AND ROLLLLLL"
   ]
  },
  {
   "cell_type": "code",
   "execution_count": 224,
   "id": "54729d35-2d14-444e-9ae4-678f280a5a0d",
   "metadata": {},
   "outputs": [],
   "source": [
    "# Perform a query.\n",
    "q = (\n",
    "\"\"\"\n",
    "SELECT  fullVisitorId,\n",
    "        visitNumber,\n",
    "FROM `bigquery-public-data.google_analytics_sample.ga_sessions_20170710` LIMIT 1000\n",
    "\"\"\"\n",
    ")\n",
    "query_job = client.query(q)  # API request\n",
    "rows = query_job.result()  # Waits for query to finish, ADD CHECKS FOR FAILED QUERY\n",
    "\n",
    "#  Create a pandas DataFrame by loading all pages of a query \n",
    "# https://googleapis.dev/python/bigquery/latest/generated/google.cloud.bigquery.table.RowIterator.html\n",
    "rows_df = rows.to_dataframe(create_bqstorage_client=True) "
   ]
  },
  {
   "cell_type": "code",
   "execution_count": 225,
   "id": "25c97a55-8d1a-4c79-84b3-e832b2cd3ab7",
   "metadata": {},
   "outputs": [
    {
     "name": "stdout",
     "output_type": "stream",
     "text": [
      "           fullVisitorId  visitNumber\n",
      "0    6131429996146284901            1\n",
      "1    6332799276550005754            1\n",
      "2    1217531208632585477            1\n",
      "3     358414482172594579            1\n",
      "4    1631409567299872036            1\n",
      "..                   ...          ...\n",
      "995   359543390044601586            1\n",
      "996  3590334566572045711            1\n",
      "997  9515230126025032270            1\n",
      "998  4492737792188874011            1\n",
      "999  6708420619872985019            1\n",
      "\n",
      "[1000 rows x 2 columns]\n"
     ]
    }
   ],
   "source": [
    "print(rows_df)"
   ]
  },
  {
   "cell_type": "markdown",
   "id": "c4b927c0-928e-4363-9aae-fc5b3b54c3ad",
   "metadata": {},
   "source": [
    "### 1. Show the session count for all visitors who landed on our website on July 10, 2017. "
   ]
  },
  {
   "cell_type": "code",
   "execution_count": null,
   "id": "fc6e9ab8-61e6-4577-9b3d-f049bdc28a6b",
   "metadata": {},
   "outputs": [],
   "source": [
    "# The unique visitor ID\n",
    "# The session number for this user. If this is the first session, then this is set to 1.\n",
    "\"\"\"\n",
    "SELECT  fullVisitorId,\n",
    "        visitNumber,\n",
    " FROM `bigquery-public-data.google_analytics_sample.ga_sessions_20170710` LIMIT 1000\n",
    "\"\"\""
   ]
  },
  {
   "cell_type": "markdown",
   "id": "a4cf98c2-0d4f-4093-9df0-836e73db2c03",
   "metadata": {},
   "source": [
    "### 2. Summary of daily session statistics (concat df, axis=0) in the last x days/months/years \n",
    "\n",
    "totals: This section contains aggregate values across the session\n",
    "\n",
    "totals.visits: The number of sessions (for convenience). This value is 1 for sessions with interaction events. The value is null if there are no interaction events in the session.\n",
    "\n",
    "totals.pageviews: Total number of pageviews within the session.\n",
    "\n",
    "totals.transactions: Total number of ecommerce transactions within the session.\n",
    "\n",
    "totals.transactionRevenue: \tThis field is deprecated. Use \"totals.totalTransactionRevenue\" instead (see above).\n"
   ]
  },
  {
   "cell_type": "code",
   "execution_count": null,
   "id": "1bc6bf42-eb86-4cec-8be4-c246255d8ea4",
   "metadata": {},
   "outputs": [],
   "source": [
    "\"\"\"\n",
    "#standardSQL\n",
    "SELECT\n",
    "date,\n",
    "SUM(totals.visits) AS visits,\n",
    "SUM(totals.pageviews) AS pageviews,\n",
    "SUM(totals.transactions) AS transactions,\n",
    "SUM(totals.transactionRevenue)/1000000 AS revenue\n",
    "FROM `bigquery-public-data.google_analytics_sample.ga_sessions_*`\n",
    "WHERE\n",
    "_TABLE_SUFFIX BETWEEN FORMAT_DATE('%Y%m%d',DATE_SUB(CURRENT_DATE(), INTERVAL 1095 DAY))\n",
    "AND\n",
    "FORMAT_DATE('%Y%m%d',DATE_SUB(CURRENT_DATE(), INTERVAL 1 DAY))\n",
    "GROUP BY date\n",
    "ORDER BY date ASC\n",
    "\"\"\""
   ]
  },
  {
   "cell_type": "markdown",
   "id": "f51e9619-1d33-4f19-bb72-380e36f3b325",
   "metadata": {},
   "source": [
    "### 3 Average bounce rate per [dimension]\n"
   ]
  },
  {
   "cell_type": "code",
   "execution_count": null,
   "id": "9ea9d5db-4f8a-49df-b9cd-b04bf2b48cfe",
   "metadata": {},
   "outputs": [],
   "source": [
    "#standardSQL\n",
    "\n",
    "\"\"\"\n",
    "SELECT\n",
    "source,\n",
    "total_visits,\n",
    "total_no_of_bounces,\n",
    "( ( total_no_of_bounces / total_visits ) * 100 ) AS bounce_rate\n",
    "FROM(\n",
    "SELECT\n",
    "trafficSource.source AS source,\n",
    "COUNT ( trafficSource.source ) AS total_visits,\n",
    "SUM ( totals.bounces ) AS total_no_of_bounces,\n",
    "FROM `bigquery-public-data.google_analytics_sample.ga_sessions_*`\n",
    "WHERE _TABLE_SUFFIX BETWEEN '20170701' AND '20170731'\n",
    "GROUP BY\n",
    "source) \n",
    "ORDER BY\n",
    "total_visits DESC\n",
    "\"\"\"\n"
   ]
  },
  {
   "cell_type": "markdown",
   "id": "db568d6c-3812-4e93-b3cb-7709f5c56c8a",
   "metadata": {},
   "source": [
    "#### Deriving Customer insights\n",
    "We want to study customer and anonymous behavior across many sessions visitors have had on our website.\n",
    "\n",
    "We are searching for behaviors that drive critical business decisions. The idea and techniques to customer segmentation are pivotal to understand customer insights.\n",
    "\n",
    "Examples of user profiles we may be interested in:\n",
    "- Users who did not make a purchase\n",
    "- Users that made a purchase"
   ]
  },
  {
   "cell_type": "markdown",
   "id": "88651097-44ed-4661-927d-0f11301b3ce0",
   "metadata": {},
   "source": [
    "### 4. Average number of product pageviews by !purchaser type! (buyer vs non-purchasers)\n",
    "What was the average number of product pageviews for users who made a purchase in July 2017?"
   ]
  },
  {
   "cell_type": "markdown",
   "id": "a93980c3-28a2-4f69-9a0f-3b8307b5080a",
   "metadata": {},
   "source": [
    "fullVisitorId: The unique visitor ID.\n",
    "    \n",
    "totals.pageviews: Total number of pageviews **within the session**.\n",
    "    \n",
    "totals.transactions: Total number of ecommerce transactions **within the session**."
   ]
  },
  {
   "cell_type": "code",
   "execution_count": null,
   "id": "99daad50-bf4f-4b13-901b-d43a1f607755",
   "metadata": {},
   "outputs": [],
   "source": [
    "\"\"\"\n",
    "#standardSQL\n",
    "SELECT\n",
    "( SUM(total_pagesviews_per_user) / COUNT(users) ) AS avg_pageviews_per_user\n",
    "FROM\n",
    "SELECT\n",
    "fullVisitorId AS users,\n",
    "SUM(totals.pageviews) AS total_pagesviews_per_user\n",
    "FROM`bigquery-public-data.google_analytics_sample.ga_sessions_*`\n",
    "WHERE\n",
    "_TABLE_SUFFIX BETWEEN '20170701' AND '20170731'\n",
    "AND\n",
    "totals.transactions >=1\n",
    "GROUP BY\n",
    "users )\n",
    "\"\"\""
   ]
  },
  {
   "cell_type": "markdown",
   "id": "7ecbe878-7f2b-447d-a4ec-21b01847254c",
   "metadata": {},
   "source": [
    "**Result:**\n",
    "\n",
    "Average number of product pageviews for users who made a purchase in July 2017\n",
    "27.720954356846473\n",
    "\n",
    "Average number of product pageviews for users who did not make a purchase in July 2017\n",
    "4.1918408747077427\n",
    "\n",
    "This informs us that people who have the intention to buy typically conduct thorough research of the site before they make a purchase."
   ]
  },
  {
   "cell_type": "markdown",
   "id": "8f91f843-6ce1-440c-b6ce-50e7b037e1c5",
   "metadata": {},
   "source": [
    "### 5. Average number of transactions per purchase"
   ]
  },
  {
   "cell_type": "code",
   "execution_count": null,
   "id": "5bfb6c00-6ba0-444f-9933-c05b2f55a7c8",
   "metadata": {},
   "outputs": [],
   "source": [
    "What was the average total transactions per user that made a purchase in July 2017?"
   ]
  },
  {
   "cell_type": "code",
   "execution_count": null,
   "id": "b4612409-d4da-4b38-b9d6-f3ccd4d7b6c7",
   "metadata": {},
   "outputs": [],
   "source": [
    "\"\"\"\n",
    "#standardSQL\n",
    "SELECT\n",
    "(SUM (total_transactions_per_user) / COUNT(fullVisitorId) ) AS avg_total_transactions_per_user\n",
    "FROM (\n",
    "SELECT\n",
    "fullVisitorId,\n",
    "SUM (totals.transactions) AS total_transactions_per_user\n",
    "FROM\n",
    "`bigquery-public-data.google_analytics_sample.ga_sessions_*`\n",
    "WHERE\n",
    "_TABLE_SUFFIX BETWEEN '20170701' AND '20170731'\n",
    "AND totals.transactions IS NOT NULL\n",
    "GROUP BY\n",
    "fullVisitorId )\n",
    "\"\"\""
   ]
  },
  {
   "cell_type": "markdown",
   "id": "f286b340-8bde-4c0c-9cac-4a2079bd88de",
   "metadata": {},
   "source": [
    "avg_total_transactions_per_user = \n",
    "1.1120331950207469"
   ]
  },
  {
   "cell_type": "markdown",
   "id": "c0bd48e5-2a1b-400b-b910-b4eef67aff80",
   "metadata": {},
   "source": [
    "### 6. Average amount of money spent per session\n",
    "What is the average amount of money spent per session in July 2017?"
   ]
  },
  {
   "cell_type": "code",
   "execution_count": null,
   "id": "49265dfc-5368-4da3-8df6-ba157f8f4ec9",
   "metadata": {},
   "outputs": [],
   "source": [
    "\"\"\"\n",
    "#standardSQL\n",
    "SELECT\n",
    "( SUM(total_transactionrevenue_per_user) / SUM(total_visits_per_user) ) AS\n",
    "avg_revenue_by_user_per_visit\n",
    "FROM (\n",
    "SELECT\n",
    "fullVisitorId,\n",
    "SUM( totals.visits ) AS total_visits_per_user,\n",
    "SUM( totals.transactionRevenue ) AS total_transactionrevenue_per_user\n",
    "FROM\n",
    "`bigquery-public-data.google_analytics_sample.ga_sessions_*`\n",
    "WHERE\n",
    "_TABLE_SUFFIX BETWEEN '20170701' AND '20170731'\n",
    "AND\n",
    "totals.visits > 0\n",
    "AND totals.transactions >= 1\n",
    "AND totals.transactionRevenue IS NOT NULL\n",
    "GROUP BY\n",
    "fullVisitorId )\n",
    "\"\"\""
   ]
  },
  {
   "cell_type": "code",
   "execution_count": 12,
   "id": "6449f960-25d2-417c-8a9f-b12179b91b1b",
   "metadata": {},
   "outputs": [
    {
     "name": "stdout",
     "output_type": "stream",
     "text": [
      "Customers and anons that land on the Google merch site on average will generate $120.75584869059166\n"
     ]
    }
   ],
   "source": [
    "avg_revenue_by_user_per_visit = 120755848.69059166\n",
    "print(f\"Visitors that land on the Google merch site on average will generate ${avg_revenue_by_user_per_visit / pow(10, 6)}\")\n"
   ]
  },
  {
   "cell_type": "markdown",
   "id": "0f179fa8-7452-4462-899f-c7cf2d1ba730",
   "metadata": {},
   "source": [
    "\n"
   ]
  }
 ],
 "metadata": {
  "kernelspec": {
   "display_name": "uol-ds",
   "language": "python",
   "name": "uol-ds"
  },
  "language_info": {
   "codemirror_mode": {
    "name": "ipython",
    "version": 3
   },
   "file_extension": ".py",
   "mimetype": "text/x-python",
   "name": "python",
   "nbconvert_exporter": "python",
   "pygments_lexer": "ipython3",
   "version": "3.8.0"
  }
 },
 "nbformat": 4,
 "nbformat_minor": 5
}
